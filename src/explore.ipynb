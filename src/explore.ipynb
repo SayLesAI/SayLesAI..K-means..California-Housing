{
    "cells": [
        {
            "cell_type": "markdown",
            "metadata": {},
            "source": [
                "# Explore here"
            ]
        },
        {
            "cell_type": "code",
            "execution_count": 223,
            "metadata": {},
            "outputs": [],
            "source": [
                "#K means \n",
                "import pandas as pd\n",
                "import numpy as np\n",
                "from sklearn.cluster import KMeans\n",
                "from sklearn.preprocessing import StandardScaler\n",
                "import matplotlib.pyplot as plt\n",
                "from sklearn.decomposition import PCA"
            ]
        },
        {
            "cell_type": "code",
            "execution_count": 224,
            "metadata": {},
            "outputs": [
                {
                    "data": {
                        "text/html": [
                            "<div>\n",
                            "<style scoped>\n",
                            "    .dataframe tbody tr th:only-of-type {\n",
                            "        vertical-align: middle;\n",
                            "    }\n",
                            "\n",
                            "    .dataframe tbody tr th {\n",
                            "        vertical-align: top;\n",
                            "    }\n",
                            "\n",
                            "    .dataframe thead th {\n",
                            "        text-align: right;\n",
                            "    }\n",
                            "</style>\n",
                            "<table border=\"1\" class=\"dataframe\">\n",
                            "  <thead>\n",
                            "    <tr style=\"text-align: right;\">\n",
                            "      <th></th>\n",
                            "      <th>MedInc</th>\n",
                            "      <th>HouseAge</th>\n",
                            "      <th>AveRooms</th>\n",
                            "      <th>AveBedrms</th>\n",
                            "      <th>Population</th>\n",
                            "      <th>AveOccup</th>\n",
                            "      <th>Latitude</th>\n",
                            "      <th>Longitude</th>\n",
                            "      <th>MedHouseVal</th>\n",
                            "    </tr>\n",
                            "  </thead>\n",
                            "  <tbody>\n",
                            "    <tr>\n",
                            "      <th>0</th>\n",
                            "      <td>8.3252</td>\n",
                            "      <td>41.0</td>\n",
                            "      <td>6.984127</td>\n",
                            "      <td>1.023810</td>\n",
                            "      <td>322.0</td>\n",
                            "      <td>2.555556</td>\n",
                            "      <td>37.88</td>\n",
                            "      <td>-122.23</td>\n",
                            "      <td>4.526</td>\n",
                            "    </tr>\n",
                            "    <tr>\n",
                            "      <th>1</th>\n",
                            "      <td>8.3014</td>\n",
                            "      <td>21.0</td>\n",
                            "      <td>6.238137</td>\n",
                            "      <td>0.971880</td>\n",
                            "      <td>2401.0</td>\n",
                            "      <td>2.109842</td>\n",
                            "      <td>37.86</td>\n",
                            "      <td>-122.22</td>\n",
                            "      <td>3.585</td>\n",
                            "    </tr>\n",
                            "    <tr>\n",
                            "      <th>2</th>\n",
                            "      <td>7.2574</td>\n",
                            "      <td>52.0</td>\n",
                            "      <td>8.288136</td>\n",
                            "      <td>1.073446</td>\n",
                            "      <td>496.0</td>\n",
                            "      <td>2.802260</td>\n",
                            "      <td>37.85</td>\n",
                            "      <td>-122.24</td>\n",
                            "      <td>3.521</td>\n",
                            "    </tr>\n",
                            "    <tr>\n",
                            "      <th>3</th>\n",
                            "      <td>5.6431</td>\n",
                            "      <td>52.0</td>\n",
                            "      <td>5.817352</td>\n",
                            "      <td>1.073059</td>\n",
                            "      <td>558.0</td>\n",
                            "      <td>2.547945</td>\n",
                            "      <td>37.85</td>\n",
                            "      <td>-122.25</td>\n",
                            "      <td>3.413</td>\n",
                            "    </tr>\n",
                            "    <tr>\n",
                            "      <th>4</th>\n",
                            "      <td>3.8462</td>\n",
                            "      <td>52.0</td>\n",
                            "      <td>6.281853</td>\n",
                            "      <td>1.081081</td>\n",
                            "      <td>565.0</td>\n",
                            "      <td>2.181467</td>\n",
                            "      <td>37.85</td>\n",
                            "      <td>-122.25</td>\n",
                            "      <td>3.422</td>\n",
                            "    </tr>\n",
                            "    <tr>\n",
                            "      <th>5</th>\n",
                            "      <td>4.0368</td>\n",
                            "      <td>52.0</td>\n",
                            "      <td>4.761658</td>\n",
                            "      <td>1.103627</td>\n",
                            "      <td>413.0</td>\n",
                            "      <td>2.139896</td>\n",
                            "      <td>37.85</td>\n",
                            "      <td>-122.25</td>\n",
                            "      <td>2.697</td>\n",
                            "    </tr>\n",
                            "    <tr>\n",
                            "      <th>6</th>\n",
                            "      <td>3.6591</td>\n",
                            "      <td>52.0</td>\n",
                            "      <td>4.931907</td>\n",
                            "      <td>0.951362</td>\n",
                            "      <td>1094.0</td>\n",
                            "      <td>2.128405</td>\n",
                            "      <td>37.84</td>\n",
                            "      <td>-122.25</td>\n",
                            "      <td>2.992</td>\n",
                            "    </tr>\n",
                            "    <tr>\n",
                            "      <th>7</th>\n",
                            "      <td>3.1200</td>\n",
                            "      <td>52.0</td>\n",
                            "      <td>4.797527</td>\n",
                            "      <td>1.061824</td>\n",
                            "      <td>1157.0</td>\n",
                            "      <td>1.788253</td>\n",
                            "      <td>37.84</td>\n",
                            "      <td>-122.25</td>\n",
                            "      <td>2.414</td>\n",
                            "    </tr>\n",
                            "    <tr>\n",
                            "      <th>8</th>\n",
                            "      <td>2.0804</td>\n",
                            "      <td>42.0</td>\n",
                            "      <td>4.294118</td>\n",
                            "      <td>1.117647</td>\n",
                            "      <td>1206.0</td>\n",
                            "      <td>2.026891</td>\n",
                            "      <td>37.84</td>\n",
                            "      <td>-122.26</td>\n",
                            "      <td>2.267</td>\n",
                            "    </tr>\n",
                            "    <tr>\n",
                            "      <th>9</th>\n",
                            "      <td>3.6912</td>\n",
                            "      <td>52.0</td>\n",
                            "      <td>4.970588</td>\n",
                            "      <td>0.990196</td>\n",
                            "      <td>1551.0</td>\n",
                            "      <td>2.172269</td>\n",
                            "      <td>37.84</td>\n",
                            "      <td>-122.25</td>\n",
                            "      <td>2.611</td>\n",
                            "    </tr>\n",
                            "  </tbody>\n",
                            "</table>\n",
                            "</div>"
                        ],
                        "text/plain": [
                            "   MedInc  HouseAge  AveRooms  AveBedrms  Population  AveOccup  Latitude  \\\n",
                            "0  8.3252      41.0  6.984127   1.023810       322.0  2.555556     37.88   \n",
                            "1  8.3014      21.0  6.238137   0.971880      2401.0  2.109842     37.86   \n",
                            "2  7.2574      52.0  8.288136   1.073446       496.0  2.802260     37.85   \n",
                            "3  5.6431      52.0  5.817352   1.073059       558.0  2.547945     37.85   \n",
                            "4  3.8462      52.0  6.281853   1.081081       565.0  2.181467     37.85   \n",
                            "5  4.0368      52.0  4.761658   1.103627       413.0  2.139896     37.85   \n",
                            "6  3.6591      52.0  4.931907   0.951362      1094.0  2.128405     37.84   \n",
                            "7  3.1200      52.0  4.797527   1.061824      1157.0  1.788253     37.84   \n",
                            "8  2.0804      42.0  4.294118   1.117647      1206.0  2.026891     37.84   \n",
                            "9  3.6912      52.0  4.970588   0.990196      1551.0  2.172269     37.84   \n",
                            "\n",
                            "   Longitude  MedHouseVal  \n",
                            "0    -122.23        4.526  \n",
                            "1    -122.22        3.585  \n",
                            "2    -122.24        3.521  \n",
                            "3    -122.25        3.413  \n",
                            "4    -122.25        3.422  \n",
                            "5    -122.25        2.697  \n",
                            "6    -122.25        2.992  \n",
                            "7    -122.25        2.414  \n",
                            "8    -122.26        2.267  \n",
                            "9    -122.25        2.611  "
                        ]
                    },
                    "execution_count": 224,
                    "metadata": {},
                    "output_type": "execute_result"
                }
            ],
            "source": [
                "# Load the dataset \n",
                "url = \"https://raw.githubusercontent.com/4GeeksAcademy/k-means-project-tutorial/main/housing.csv\"\n",
                "df = pd.read_csv(url)\n",
                "df.head(10)"
            ]
        },
        {
            "cell_type": "code",
            "execution_count": 225,
            "metadata": {},
            "outputs": [
                {
                    "name": "stdout",
                    "output_type": "stream",
                    "text": [
                        "Number of zeros: 0\n"
                    ]
                }
            ],
            "source": [
                "# Count zeros in the entire dataset \n",
                "zero_count = (df == 0).sum().sum()\n",
                "print(f\"Number of zeros: {zero_count}\")"
            ]
        },
        {
            "cell_type": "code",
            "execution_count": 226,
            "metadata": {},
            "outputs": [],
            "source": [
                "# Split the data into x and y \n",
                "X = df.drop(columns=['MedHouseVal'])\n",
                "y = df['MedHouseVal']"
            ]
        },
        {
            "cell_type": "code",
            "execution_count": 227,
            "metadata": {},
            "outputs": [
                {
                    "data": {
                        "text/plain": [
                            "(20640, 8)"
                        ]
                    },
                    "execution_count": 227,
                    "metadata": {},
                    "output_type": "execute_result"
                }
            ],
            "source": [
                "X.shape"
            ]
        },
        {
            "cell_type": "code",
            "execution_count": 228,
            "metadata": {},
            "outputs": [
                {
                    "data": {
                        "text/plain": [
                            "(20640,)"
                        ]
                    },
                    "execution_count": 228,
                    "metadata": {},
                    "output_type": "execute_result"
                }
            ],
            "source": [
                "y.shape"
            ]
        },
        {
            "cell_type": "code",
            "execution_count": 229,
            "metadata": {},
            "outputs": [],
            "source": [
                "# Splitting the data in the training and testing\n",
                "from sklearn.model_selection import train_test_split\n",
                "X_train, X_test, y_train, y_test = train_test_split(X, y, test_size = 0.2, random_state=42)\n"
            ]
        },
        {
            "cell_type": "code",
            "execution_count": 230,
            "metadata": {},
            "outputs": [],
            "source": [
                "# Ensure the test set has the same columns as the training set\n",
                "# Remove any columns from the test set that are not present in the training set\n",
                "X_test = X_test[X_train.columns]"
            ]
        },
        {
            "cell_type": "code",
            "execution_count": 231,
            "metadata": {},
            "outputs": [],
            "source": [
                "# Preprocess the test set\n",
                "# Handle missing values in the test set (using the same method as for the training set)\n",
                "X_test.fillna(df.mean(), inplace=True)  # Use training data's mean to fill missing values"
            ]
        },
        {
            "cell_type": "code",
            "execution_count": 232,
            "metadata": {},
            "outputs": [
                {
                    "name": "stdout",
                    "output_type": "stream",
                    "text": [
                        "Training set shape:  (16512, 8) (16512,)\n",
                        "Testing set shape:  (4128, 8) (4128,)\n"
                    ]
                }
            ],
            "source": [
                "# print our the shape of the training and testing sets \n",
                "print(\"Training set shape: \",X_train.shape, y_train.shape)\n",
                "print(\"Testing set shape: \",X_test.shape, y_test.shape)"
            ]
        },
        {
            "cell_type": "code",
            "execution_count": 233,
            "metadata": {},
            "outputs": [],
            "source": [
                "# Normalize the features\n",
                "scaler = StandardScaler()\n",
                "numeric_features = df.select_dtypes(include=[np.number])  # Select only numeric columns\n",
                "scaled_features = scaler.fit_transform(numeric_features)\n",
                "X_test= scaler.fit_transform(numeric_features)"
            ]
        },
        {
            "cell_type": "code",
            "execution_count": 234,
            "metadata": {},
            "outputs": [],
            "source": [
                "# Apply K-Means Clustering\n",
                "kmeans = KMeans(n_clusters=6, random_state=42)\n",
                "df['cluster'] = kmeans.fit_predict(scaled_features) "
            ]
        },
        {
            "cell_type": "code",
            "execution_count": 235,
            "metadata": {},
            "outputs": [],
            "source": [
                "# Visualize the Clusters\n",
                "# Use PCA to reduce to 2 dimensions for visualization\n",
                "pca = PCA(n_components=2)\n",
                "pca_result = pca.fit_transform(scaled_features)\n",
                "df['pca1'] = pca_result[:, 0]\n",
                "df['pca2'] = pca_result[:, 1]   "
            ]
        },
        {
            "cell_type": "code",
            "execution_count": 236,
            "metadata": {},
            "outputs": [
                {
                    "data": {
                        "image/png": "[encoded data removed]",
                        "text/plain": [
                            "<Figure size 1000x800 with 1 Axes>"
                        ]
                    },
                    "metadata": {},
                    "output_type": "display_data"
                },
                {
                    "name": "stdout",
                    "output_type": "stream",
                    "text": [
                        "Cluster Analysis:\n",
                        "            MedInc   HouseAge    AveRooms  AveBedrms   Population  \\\n",
                        "cluster                                                             \n",
                        "0         3.263824  30.082039    4.848167   1.069373  1298.566000   \n",
                        "1         3.942846  15.348726    5.325567   1.078478  4482.754777   \n",
                        "2         3.329282  29.472328    5.326495   1.089370  1169.132393   \n",
                        "3        10.226400  45.000000    3.166667   0.833333  7460.000000   \n",
                        "4         6.916007  27.862508    7.330033   1.182805  1158.347485   \n",
                        "5         3.250000  33.500000  137.221212  29.851515    33.000000   \n",
                        "\n",
                        "            AveOccup   Latitude   Longitude  MedHouseVal       pca1       pca2  \n",
                        "cluster                                                                         \n",
                        "0           3.097334  33.949181 -117.982938     1.753860  -0.933509  -0.468990  \n",
                        "1           4.364604  34.820008 -118.733376     1.933565  -0.739887  -0.867356  \n",
                        "2           2.788794  38.017881 -121.691248     1.689169   0.774959   1.403915  \n",
                        "3        1243.333333  38.320000 -121.980000     1.375000  -1.711147  -0.138456  \n",
                        "4           2.735821  35.134069 -119.440297     3.956284   1.127134  -1.635213  \n",
                        "5           2.563636  38.855000 -120.090000     3.312505  59.416634 -28.525382  \n"
                    ]
                }
            ],
            "source": [
                "# Create a dot plot\n",
                "plt.figure(figsize=(10, 8))\n",
                "for cluster in range(6):\n",
                "    cluster_data = df[df['cluster'] == cluster]\n",
                "    plt.scatter(cluster_data['pca1'], cluster_data['pca2'], label=f'Cluster {cluster}')\n",
                "    \n",
                "plt.title('K-Means Clustering Visualization')\n",
                "plt.xlabel('PCA Component 1')\n",
                "plt.ylabel('PCA Component 2')\n",
                "plt.legend()\n",
                "plt.show()\n",
                "\n",
                "# Analyze the clusters\n",
                "# Print basic statistics for each cluster\n",
                "cluster_analysis = df.groupby('cluster').mean()\n",
                "print(\"Cluster Analysis:\")\n",
                "print(cluster_analysis) "
            ]
        },
        {
            "cell_type": "code",
            "execution_count": 237,
            "metadata": {},
            "outputs": [
                {
                    "ename": "IndexError",
                    "evalue": "only integers, slices (`:`), ellipsis (`...`), numpy.newaxis (`None`) and integer or boolean arrays are valid indices",
                    "output_type": "error",
                    "traceback": [
                        "\u001b[0;31m---------------------------------------------------------------------------\u001b[0m",
                        "\u001b[0;31mIndexError\u001b[0m                                Traceback (most recent call last)",
                        "Cell \u001b[0;32mIn[237], line 2\u001b[0m\n\u001b[1;32m      1\u001b[0m \u001b[38;5;66;03m# Predict the clusters for the test set\u001b[39;00m\n\u001b[0;32m----> 2\u001b[0m \u001b[43mX_test\u001b[49m\u001b[43m[\u001b[49m\u001b[38;5;124;43m'\u001b[39;49m\u001b[38;5;124;43mcluster\u001b[39;49m\u001b[38;5;124;43m'\u001b[39;49m\u001b[43m]\u001b[49m \u001b[38;5;241m=\u001b[39m kmeans\u001b[38;5;241m.\u001b[39mpredict(scaled_features)   \n",
                        "\u001b[0;31mIndexError\u001b[0m: only integers, slices (`:`), ellipsis (`...`), numpy.newaxis (`None`) and integer or boolean arrays are valid indices"
                    ]
                }
            ],
            "source": [
                "# Predict the clusters for the test set\n",
                "X_test['cluster'] = kmeans.predict(scaled_features)   "
            ]
        }
    ],
    "metadata": {
        "kernelspec": {
            "display_name": "Python 3",
            "language": "python",
            "name": "python3"
        },
        "language_info": {
            "codemirror_mode": {
                "name": "ipython",
                "version": 3
            },
            "file_extension": ".py",
            "mimetype": "text/x-python",
            "name": "python",
            "nbconvert_exporter": "python",
            "pygments_lexer": "ipython3",
            "version": "3.10.12"
        },
        "orig_nbformat": 4
    },
    "nbformat": 4,
    "nbformat_minor": 2
}
